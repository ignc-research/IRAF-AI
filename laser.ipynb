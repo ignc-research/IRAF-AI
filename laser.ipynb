{
  "cells": [
    {
      "cell_type": "markdown",
      "metadata": {
        "id": "view-in-github",
        "colab_type": "text"
      },
      "source": [
        "<a href=\"https://colab.research.google.com/github/ignc-research/industrial-web-application/blob/main/laser.ipynb\" target=\"_parent\"><img src=\"https://colab.research.google.com/assets/colab-badge.svg\" alt=\"Open In Colab\"/></a>"
      ]
    },
    {
      "cell_type": "code",
      "execution_count": 143,
      "metadata": {
        "collapsed": true,
        "pycharm": {
          "name": "#%%\n"
        },
        "id": "esHnAnkdAAiO"
      },
      "outputs": [],
      "source": [
        "# Use seaborn for pairplot.\n",
        "!pip install -q seaborn"
      ]
    },
    {
      "cell_type": "code",
      "execution_count": 144,
      "outputs": [],
      "source": [
        "import matplotlib.pyplot as plt\n",
        "import numpy as np\n",
        "import pandas as pd\n",
        "import seaborn as sns\n",
        "\n",
        "import os\n",
        "\n",
        "# Make NumPy printouts easier to read.\n",
        "np.set_printoptions(precision=3, suppress=True)"
      ],
      "metadata": {
        "pycharm": {
          "name": "#%%\n"
        },
        "id": "g6hfCh1UAAiQ"
      }
    },
    {
      "cell_type": "code",
      "execution_count": 145,
      "outputs": [
        {
          "output_type": "stream",
          "name": "stdout",
          "text": [
            "2.8.2\n"
          ]
        }
      ],
      "source": [
        "import tensorflow as tf\n",
        "\n",
        "from tensorflow import keras\n",
        "from tensorflow.keras import layers\n",
        "\n",
        "print(tf.__version__)"
      ],
      "metadata": {
        "pycharm": {
          "name": "#%%\n"
        },
        "id": "YjLpsYnpAAiT",
        "outputId": "bf3a64ae-de08-47b0-a55b-9cb81ab06060",
        "colab": {
          "base_uri": "https://localhost:8080/"
        }
      }
    },
    {
      "cell_type": "markdown",
      "source": [
        "# Helper Functions\n",
        "\n"
      ],
      "metadata": {
        "id": "k3BOnbKLokEL"
      }
    },
    {
      "cell_type": "code",
      "source": [
        "def plot_loss(history):\n",
        "  plt.plot(history.history['loss'], label='loss')\n",
        "  plt.plot(history.history['val_loss'], label='val_loss')\n",
        "  plt.ylim([0, 10])\n",
        "  plt.xlabel('Epoch')\n",
        "  plt.ylabel('Error [MPG]')\n",
        "  plt.legend()\n",
        "  plt.grid(True)\n"
      ],
      "metadata": {
        "id": "DEmPABwmooLN"
      },
      "execution_count": 146,
      "outputs": []
    },
    {
      "cell_type": "markdown",
      "source": [
        "\n",
        "# Data Import & Data Preparation\n"
      ],
      "metadata": {
        "id": "0OZU43NmGVtq"
      }
    },
    {
      "cell_type": "code",
      "execution_count": 147,
      "outputs": [
        {
          "output_type": "stream",
          "name": "stdout",
          "text": [
            "Drive already mounted at /content/gdrive; to attempt to forcibly remount, call drive.mount(\"/content/gdrive\", force_remount=True).\n"
          ]
        }
      ],
      "source": [
        "from google.colab import drive\n",
        "\n",
        "colab = True\n",
        "\n",
        "if colab==True:\n",
        "  drive.mount(\"/content/gdrive\")\n",
        "  path = '/content/gdrive/MyDrive/ias/naht'\n",
        "  dir = os.listdir(path)\n",
        "else:\n",
        "  path = 'naht'\n",
        "  dir = os.listdir(path)"
      ],
      "metadata": {
        "pycharm": {
          "name": "#%%\n"
        },
        "id": "mV__GTwOAAiV",
        "colab": {
          "base_uri": "https://localhost:8080/"
        },
        "outputId": "ae564ff9-748a-4157-fb1c-2674362f15c3"
      }
    },
    {
      "cell_type": "code",
      "execution_count": 148,
      "outputs": [],
      "source": [
        "def to_np_array(vector_str):\n",
        "    np_vector = np.array(vector_str.split())\n",
        "    np_vector = np_vector.astype(np.float32)\n",
        "    return np_vector"
      ],
      "metadata": {
        "pycharm": {
          "name": "#%%\n"
        },
        "id": "AzSuVDwMAAiW"
      }
    },
    {
      "cell_type": "code",
      "source": [
        "\"\"\"\n",
        "path='/content/gdrive/MyDrive/ias/naht/201910204483.PgmDef_82_1.TAND_GERAD_DD.10.1.csv'\n",
        "sample=True\n",
        "\n",
        "raw_dataset = pd.read_csv(path, na_values='?', comment='\\t', sep=';', skipinitialspace=True)\n",
        "dataset = raw_dataset.copy()\n",
        "\n",
        "if sample:\n",
        "  dataset = dataset.iloc[::int(len(dataset) / (20-1)),:]\n",
        "\n",
        "vector_cols = ('Punkt_Pos', 'Punkt_Fl_Norm1', 'Punkt_Fl_Norm2', 'Frame_Pos', 'Frame_Xvek', 'Frame_Yvek', 'Frame_Zvek', 'pos', 'nor_pos')\n",
        "df_with_arrays = dataset.copy(deep=True)\n",
        "\n",
        "for col in vector_cols:\n",
        "  df_with_arrays[col] = df_with_arrays[col].apply(to_np_array)\n",
        "\n",
        "point_data = df_with_arrays.copy(deep=True).iloc[1,:]\n",
        "point_data['pos'] = df_with_arrays['pos'].to_numpy()\n",
        "point_data['hit_fraction'] = df_with_arrays['hit_fraction'].to_numpy().astype(np.float32)\n",
        "\n",
        "point_data['hit_fraction']\n",
        "point_data = point_data.to_frame().T\n",
        "\"\"\""
      ],
      "metadata": {
        "colab": {
          "base_uri": "https://localhost:8080/",
          "height": 105
        },
        "id": "TGvn0lKfvTRe",
        "outputId": "26166647-b5b8-4981-9dc3-5c7a135f0d22"
      },
      "execution_count": 149,
      "outputs": [
        {
          "output_type": "execute_result",
          "data": {
            "text/plain": [
              "\"\\npath='/content/gdrive/MyDrive/ias/naht/201910204483.PgmDef_82_1.TAND_GERAD_DD.10.1.csv'\\nsample=True\\n\\nraw_dataset = pd.read_csv(path, na_values='?', comment='\\t', sep=';', skipinitialspace=True)\\ndataset = raw_dataset.copy()\\n\\nif sample:\\n  dataset = dataset.iloc[::int(len(dataset) / (20-1)),:]\\n\\nvector_cols = ('Punkt_Pos', 'Punkt_Fl_Norm1', 'Punkt_Fl_Norm2', 'Frame_Pos', 'Frame_Xvek', 'Frame_Yvek', 'Frame_Zvek', 'pos', 'nor_pos')\\ndf_with_arrays = dataset.copy(deep=True)\\n\\nfor col in vector_cols:\\n  df_with_arrays[col] = df_with_arrays[col].apply(to_np_array)\\n\\npoint_data = df_with_arrays.copy(deep=True).iloc[1,:]\\npoint_data['pos'] = df_with_arrays['pos'].to_numpy()\\npoint_data['hit_fraction'] = df_with_arrays['hit_fraction'].to_numpy().astype(np.float32)\\n\\npoint_data['hit_fraction']\\npoint_data = point_data.to_frame().T\\n\""
            ],
            "application/vnd.google.colaboratory.intrinsic+json": {
              "type": "string"
            }
          },
          "metadata": {},
          "execution_count": 149
        }
      ]
    },
    {
      "cell_type": "code",
      "execution_count": 150,
      "outputs": [],
      "source": [
        "def create_data(path, sample):\n",
        "    raw_dataset = pd.read_csv(path, na_values='?', comment='\\t', sep=';', skipinitialspace=True)\n",
        "    dataset = raw_dataset.copy()\n",
        "\n",
        "    if sample:\n",
        "      #dataset = dataset.iloc[::int(len(dataset) / (20)),:]\n",
        "      dataset = dataset.iloc[:20,:]\n",
        "    vector_cols = ('Punkt_Pos', 'Punkt_Fl_Norm1', 'Punkt_Fl_Norm2', 'Frame_Pos', 'Frame_Xvek', 'Frame_Yvek', 'Frame_Zvek', 'pos', 'nor_pos')\n",
        "    df_with_arrays = dataset.copy(deep=True)\n",
        "\n",
        "    for col in vector_cols:\n",
        "        df_with_arrays[col] = df_with_arrays[col].apply(to_np_array)\n",
        "\n",
        "    point_data = df_with_arrays.copy(deep=True).iloc[1,:]\n",
        "    point_data['pos'] = df_with_arrays['pos'].to_numpy()\n",
        "    point_data['hit_fraction'] = df_with_arrays['hit_fraction'].to_numpy().astype(np.float32)\n",
        "\n",
        "    point_data = point_data.to_frame().T\n",
        "    return point_data"
      ],
      "metadata": {
        "pycharm": {
          "name": "#%%\n"
        },
        "id": "Bt_9D3ZoAAiX"
      }
    },
    {
      "cell_type": "code",
      "execution_count": 151,
      "outputs": [],
      "source": [
        "data = pd.DataFrame(columns=['WkzWkl',\n",
        "                             'WkzName',\n",
        "                             'Punkt_Pos',\n",
        "                             'Punkt_Fl_Norm1',\n",
        "                             'Punkt_Fl_Norm2',\n",
        "                             'Frame_Pos',\n",
        "                             'Frame_Xvek',\n",
        "                             'Frame_Yvek',\n",
        "                             'Frame_Zvek',\n",
        "                             'hit_fraction',\n",
        "                             'pos',\n",
        "                             'nor_pos',\n",
        "                             'csv_name'])"
      ],
      "metadata": {
        "pycharm": {
          "name": "#%%\n"
        },
        "id": "fCYuTS94AAiZ"
      }
    },
    {
      "cell_type": "code",
      "execution_count": 152,
      "outputs": [],
      "source": [
        "for file in dir:\n",
        "  point_data = create_data('{}/{}'.format(path, file), True)\n",
        "  point_data['csv_name'] = file\n",
        "  data = pd.concat([data, point_data], ignore_index=True)\n",
        "#data.sort_values(by=['csv_name'])"
      ],
      "metadata": {
        "pycharm": {
          "name": "#%%\n"
        },
        "id": "NlJ8u761AAia"
      }
    },
    {
      "cell_type": "markdown",
      "source": [],
      "metadata": {
        "id": "r1DR4pPhU2X3"
      }
    },
    {
      "cell_type": "code",
      "source": [
        "train_dataset = data.sample(frac=0.8, random_state=0)\n",
        "test_dataset = data.drop(train_dataset.index)\n",
        "\n",
        "train_labels = pd.concat([train_dataset.pop(col) for col in ['Frame_Xvek', 'Frame_Yvek', 'Frame_Zvek']], axis=1)\n",
        "train_features = pd.concat([train_dataset.pop(col) for col in ['pos']], axis=1)\n",
        "\n",
        "test_labels = pd.concat([test_dataset.pop(col) for col in ['Frame_Xvek', 'Frame_Yvek', 'Frame_Zvek']], axis=1)\n",
        "test_features = pd.concat([test_dataset.pop(col) for col in ['pos']], axis=1)"
      ],
      "metadata": {
        "id": "q9u0Q7I_Mrf6"
      },
      "execution_count": 153,
      "outputs": []
    },
    {
      "cell_type": "code",
      "source": [
        "train_labels = np.array([np.vstack(arr) for arr in np.array(train_labels)])\n",
        "train_features = np.array([np.vstack(arr[0]) for arr in np.array(train_features)])\n",
        "test_labels = np.array([np.vstack(arr) for arr in np.array(test_labels)])\n",
        "test_features = np.array([np.vstack(arr[0]) for arr in np.array(test_features)])\n",
        "\n",
        "np.shape(train_features), type(train_features), np.shape(train_labels),  type(train_labels)\n"
      ],
      "metadata": {
        "id": "kNPT1GgoB-do",
        "outputId": "ed76cf53-aae7-4891-9111-69c92aea696e",
        "colab": {
          "base_uri": "https://localhost:8080/"
        }
      },
      "execution_count": 160,
      "outputs": [
        {
          "output_type": "execute_result",
          "data": {
            "text/plain": [
              "((349, 20, 3), numpy.ndarray, (349, 3, 3), numpy.ndarray)"
            ]
          },
          "metadata": {},
          "execution_count": 160
        }
      ]
    },
    {
      "cell_type": "markdown",
      "source": [
        "# Regression Model\n"
      ],
      "metadata": {
        "id": "RcJ4vm9KGjtA"
      }
    },
    {
      "cell_type": "code",
      "source": [
        "def build_and_compile_model():\n",
        "\n",
        "\n",
        "  dense = layers.Dense(64, activation=\"relu\")\n",
        "\n",
        "  inputs = keras.Input(shape=(20,3))\n",
        "  x = tf.keras.layers.UpSampling1D(3)(inputs)  \n",
        "\n",
        "  #x = dense(inputs)\n",
        "  x = tf.keras.layers.MaxPooling1D(20)(x)  \n",
        " \n",
        "  #x = layers.Reshape((3,2,10))(inputs)\n",
        "  # normalizer\n",
        "  # x = dense(normalizer)\n",
        "  x = layers.Dense(64, activation=\"relu\")(x)\n",
        "  x = layers.Dense(64, activation=\"relu\")(x)\n",
        "\n",
        "  outputs = layers.Dense(3)(x)\n",
        "\n",
        "\n",
        "  model = keras.Model(inputs=inputs, outputs=outputs, name=\"model\")\n",
        "  \"\"\"\n",
        "  model = keras.Model([\n",
        "      normalizer,\n",
        "      layers.Dense(64, activation='relu'),\n",
        "      layers.Dense(64, activation='relu'),\n",
        "      layers.Dense(3)\n",
        "  ])\n",
        "  \"\"\"\n",
        "  model.compile(loss='mean_absolute_error',\n",
        "                optimizer=tf.keras.optimizers.Adam(0.001))\n",
        "  \n",
        "  return model\n",
        "\n",
        "\n",
        "dnn_model = build_and_compile_model()\n",
        "dnn_model.summary()"
      ],
      "metadata": {
        "id": "uS-u-ZCAGoA9",
        "colab": {
          "base_uri": "https://localhost:8080/"
        },
        "outputId": "fa0c2d3d-a2f0-40f5-cfee-12648bbaedb9"
      },
      "execution_count": 186,
      "outputs": [
        {
          "output_type": "stream",
          "name": "stdout",
          "text": [
            "Model: \"model\"\n",
            "_________________________________________________________________\n",
            " Layer (type)                Output Shape              Param #   \n",
            "=================================================================\n",
            " input_28 (InputLayer)       [(None, 20, 3)]           0         \n",
            "                                                                 \n",
            " up_sampling1d_2 (UpSampling  (None, 60, 3)            0         \n",
            " 1D)                                                             \n",
            "                                                                 \n",
            " max_pooling1d_2 (MaxPooling  (None, 3, 3)             0         \n",
            " 1D)                                                             \n",
            "                                                                 \n",
            " dense_88 (Dense)            (None, 3, 64)             256       \n",
            "                                                                 \n",
            " dense_89 (Dense)            (None, 3, 64)             4160      \n",
            "                                                                 \n",
            " dense_90 (Dense)            (None, 3, 3)              195       \n",
            "                                                                 \n",
            "=================================================================\n",
            "Total params: 4,611\n",
            "Trainable params: 4,611\n",
            "Non-trainable params: 0\n",
            "_________________________________________________________________\n"
          ]
        }
      ]
    },
    {
      "cell_type": "code",
      "source": [
        "%%time\n",
        "history = dnn_model.fit(\n",
        "    train_features,\n",
        "    train_labels,\n",
        "    validation_split=0.2,\n",
        "    verbose=0, epochs=100)\n"
      ],
      "metadata": {
        "colab": {
          "base_uri": "https://localhost:8080/"
        },
        "id": "9AK4ihe99LCB",
        "outputId": "14aae9ec-579e-4b4b-fa25-933e647a9b6f"
      },
      "execution_count": 187,
      "outputs": [
        {
          "output_type": "stream",
          "name": "stdout",
          "text": [
            "CPU times: user 5.31 s, sys: 267 ms, total: 5.57 s\n",
            "Wall time: 5.62 s\n"
          ]
        }
      ]
    },
    {
      "cell_type": "code",
      "source": [
        "plot_loss(history)"
      ],
      "metadata": {
        "colab": {
          "base_uri": "https://localhost:8080/",
          "height": 283
        },
        "id": "hVoSXQXDoYs5",
        "outputId": "d079e7dc-d779-4a66-ebb5-dcf4666261a3"
      },
      "execution_count": 189,
      "outputs": [
        {
          "output_type": "display_data",
          "data": {
            "text/plain": [
              "<Figure size 432x288 with 1 Axes>"
            ],
            "image/png": "[encoded data removed]"
          },
          "metadata": {
            "needs_background": "light"
          }
        }
      ]
    },
    {
      "cell_type": "code",
      "source": [
        "print(\"Evaluate on test data\")\n",
        "results = dnn_model.evaluate(test_features, test_labels, batch_size=128)\n",
        "print(\"test loss, test acc:\", results)"
      ],
      "metadata": {
        "id": "KV8yLg2ULzSN",
        "outputId": "20e82be4-5574-4f97-833e-cf68668e78fd",
        "colab": {
          "base_uri": "https://localhost:8080/"
        }
      },
      "execution_count": 194,
      "outputs": [
        {
          "output_type": "stream",
          "name": "stdout",
          "text": [
            "Evaluate on test data\n",
            "1/1 [==============================] - 0s 37ms/step - loss: 0.4456\n",
            "test loss, test acc: 0.44562557339668274\n"
          ]
        }
      ]
    },
    {
      "cell_type": "code",
      "source": [
        "dnn_model.predict(test_features[:1]), test_labels[:1]\n",
        "\n"
      ],
      "metadata": {
        "id": "awSHn9NNo17Q",
        "colab": {
          "base_uri": "https://localhost:8080/"
        },
        "outputId": "d78f1095-dab1-4bff-bb69-f6022bfe04d2"
      },
      "execution_count": 205,
      "outputs": [
        {
          "output_type": "execute_result",
          "data": {
            "text/plain": [
              "(array([[[ 0.015, -0.011,  0.007],\n",
              "         [ 0.015, -0.011,  0.007],\n",
              "         [ 0.015, -0.011,  0.007]]], dtype=float32),\n",
              " array([[[ 0.977,  0.212,  0.   ],\n",
              "         [-0.148,  0.683, -0.715],\n",
              "         [-0.151,  0.699,  0.699]]], dtype=float32))"
            ]
          },
          "metadata": {},
          "execution_count": 205
        }
      ]
    }
  ],
  "metadata": {
    "kernelspec": {
      "display_name": "Python 3",
      "language": "python",
      "name": "python3"
    },
    "language_info": {
      "codemirror_mode": {
        "name": "ipython",
        "version": 2
      },
      "file_extension": ".py",
      "mimetype": "text/x-python",
      "name": "python",
      "nbconvert_exporter": "python",
      "pygments_lexer": "ipython2",
      "version": "2.7.6"
    },
    "colab": {
      "provenance": [],
      "collapsed_sections": [],
      "toc_visible": true,
      "include_colab_link": true
    }
  },
  "nbformat": 4,
  "nbformat_minor": 0
}