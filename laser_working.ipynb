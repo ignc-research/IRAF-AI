{
  "cells": [
    {
      "cell_type": "markdown",
      "metadata": {
        "id": "view-in-github",
        "colab_type": "text"
      },
      "source": [
        "<a href=\"https://colab.research.google.com/github/ignc-research/industrial-web-application/blob/main/laser_working.ipynb\" target=\"_parent\"><img src=\"https://colab.research.google.com/assets/colab-badge.svg\" alt=\"Open In Colab\"/></a>"
      ]
    },
    {
      "cell_type": "code",
      "execution_count": 74,
      "metadata": {
        "collapsed": true,
        "pycharm": {
          "name": "#%%\n"
        },
        "id": "esHnAnkdAAiO"
      },
      "outputs": [],
      "source": [
        "# Use seaborn for pairplot.\n",
        "!pip install -q seaborn"
      ]
    },
    {
      "cell_type": "code",
      "execution_count": 75,
      "outputs": [],
      "source": [
        "import matplotlib.pyplot as plt\n",
        "import numpy as np\n",
        "import pandas as pd\n",
        "import seaborn as sns\n",
        "\n",
        "import os\n",
        "\n",
        "# Make NumPy printouts easier to read.\n",
        "np.set_printoptions(precision=3, suppress=True)"
      ],
      "metadata": {
        "pycharm": {
          "name": "#%%\n"
        },
        "id": "g6hfCh1UAAiQ"
      }
    },
    {
      "cell_type": "code",
      "execution_count": 76,
      "outputs": [
        {
          "output_type": "stream",
          "name": "stdout",
          "text": [
            "2.8.2\n"
          ]
        }
      ],
      "source": [
        "import tensorflow as tf\n",
        "\n",
        "from tensorflow import keras\n",
        "from tensorflow.keras import layers\n",
        "\n",
        "print(tf.__version__)"
      ],
      "metadata": {
        "pycharm": {
          "name": "#%%\n"
        },
        "id": "YjLpsYnpAAiT",
        "outputId": "69b79722-eb97-4094-ff9b-3a971753fdf8",
        "colab": {
          "base_uri": "https://localhost:8080/"
        }
      }
    },
    {
      "cell_type": "markdown",
      "source": [
        "# Helper Functions\n",
        "\n"
      ],
      "metadata": {
        "id": "k3BOnbKLokEL"
      }
    },
    {
      "cell_type": "code",
      "source": [
        "def plot_loss(history):\n",
        "  plt.plot(history.history['loss'], label='loss')\n",
        "  plt.plot(history.history['val_loss'], label='val_loss')\n",
        "  plt.ylim([0, 10])\n",
        "  plt.xlabel('Epoch')\n",
        "  plt.ylabel('Error [MPG]')\n",
        "  plt.legend()\n",
        "  plt.grid(True)\n"
      ],
      "metadata": {
        "id": "DEmPABwmooLN"
      },
      "execution_count": 77,
      "outputs": []
    },
    {
      "cell_type": "markdown",
      "source": [
        "\n",
        "# Data Import & Data Preparation\n"
      ],
      "metadata": {
        "id": "0OZU43NmGVtq"
      }
    },
    {
      "cell_type": "code",
      "execution_count": 78,
      "outputs": [
        {
          "output_type": "stream",
          "name": "stdout",
          "text": [
            "Drive already mounted at /content/gdrive; to attempt to forcibly remount, call drive.mount(\"/content/gdrive\", force_remount=True).\n"
          ]
        }
      ],
      "source": [
        "from google.colab import drive\n",
        "\n",
        "colab = True\n",
        "\n",
        "if colab==True:\n",
        "  drive.mount(\"/content/gdrive\")\n",
        "  path = '/content/gdrive/MyDrive/ias/naht'\n",
        "  dir = os.listdir(path)\n",
        "else:\n",
        "  path = 'naht'\n",
        "  dir = os.listdir(path)"
      ],
      "metadata": {
        "pycharm": {
          "name": "#%%\n"
        },
        "id": "mV__GTwOAAiV",
        "colab": {
          "base_uri": "https://localhost:8080/"
        },
        "outputId": "928abf3e-47cf-4a03-95b9-94db583f6e6d"
      }
    },
    {
      "cell_type": "code",
      "execution_count": 79,
      "outputs": [],
      "source": [
        "def to_np_array(vector_str):\n",
        "    np_vector = np.array(vector_str.split())\n",
        "    np_vector = np_vector.astype(np.float32)\n",
        "    return np_vector"
      ],
      "metadata": {
        "pycharm": {
          "name": "#%%\n"
        },
        "id": "AzSuVDwMAAiW"
      }
    },
    {
      "cell_type": "code",
      "source": [
        "\"\"\"\n",
        "path='/content/gdrive/MyDrive/ias/naht/201910204483.PgmDef_82_1.TAND_GERAD_DD.10.1.csv'\n",
        "sample=True\n",
        "\n",
        "raw_dataset = pd.read_csv(path, na_values='?', comment='\\t', sep=';', skipinitialspace=True)\n",
        "dataset = raw_dataset.copy()\n",
        "\n",
        "if sample:\n",
        "  dataset = dataset.iloc[::int(len(dataset) / (20-1)),:]\n",
        "\n",
        "vector_cols = ('Punkt_Pos', 'Punkt_Fl_Norm1', 'Punkt_Fl_Norm2', 'Frame_Pos', 'Frame_Xvek', 'Frame_Yvek', 'Frame_Zvek', 'pos', 'nor_pos')\n",
        "df_with_arrays = dataset.copy(deep=True)\n",
        "\n",
        "for col in vector_cols:\n",
        "  df_with_arrays[col] = df_with_arrays[col].apply(to_np_array)\n",
        "\n",
        "point_data = df_with_arrays.copy(deep=True).iloc[1,:]\n",
        "point_data['pos'] = df_with_arrays['pos'].to_numpy()\n",
        "point_data['hit_fraction'] = df_with_arrays['hit_fraction'].to_numpy().astype(np.float32)\n",
        "\n",
        "point_data['hit_fraction']\n",
        "point_data = point_data.to_frame().T\n",
        "\"\"\""
      ],
      "metadata": {
        "id": "TGvn0lKfvTRe",
        "colab": {
          "base_uri": "https://localhost:8080/",
          "height": 105
        },
        "outputId": "671a3f82-1b96-4ad8-ccab-67fc264af7bf"
      },
      "execution_count": 80,
      "outputs": [
        {
          "output_type": "execute_result",
          "data": {
            "text/plain": [
              "\"\\npath='/content/gdrive/MyDrive/ias/naht/201910204483.PgmDef_82_1.TAND_GERAD_DD.10.1.csv'\\nsample=True\\n\\nraw_dataset = pd.read_csv(path, na_values='?', comment='\\t', sep=';', skipinitialspace=True)\\ndataset = raw_dataset.copy()\\n\\nif sample:\\n  dataset = dataset.iloc[::int(len(dataset) / (20-1)),:]\\n\\nvector_cols = ('Punkt_Pos', 'Punkt_Fl_Norm1', 'Punkt_Fl_Norm2', 'Frame_Pos', 'Frame_Xvek', 'Frame_Yvek', 'Frame_Zvek', 'pos', 'nor_pos')\\ndf_with_arrays = dataset.copy(deep=True)\\n\\nfor col in vector_cols:\\n  df_with_arrays[col] = df_with_arrays[col].apply(to_np_array)\\n\\npoint_data = df_with_arrays.copy(deep=True).iloc[1,:]\\npoint_data['pos'] = df_with_arrays['pos'].to_numpy()\\npoint_data['hit_fraction'] = df_with_arrays['hit_fraction'].to_numpy().astype(np.float32)\\n\\npoint_data['hit_fraction']\\npoint_data = point_data.to_frame().T\\n\""
            ],
            "application/vnd.google.colaboratory.intrinsic+json": {
              "type": "string"
            }
          },
          "metadata": {},
          "execution_count": 80
        }
      ]
    },
    {
      "cell_type": "code",
      "execution_count": 81,
      "outputs": [],
      "source": [
        "def create_data(path, sample):\n",
        "    raw_dataset = pd.read_csv(path, na_values='?', comment='\\t', sep=';', skipinitialspace=True)\n",
        "    dataset = raw_dataset.copy()\n",
        "\n",
        "    if sample:\n",
        "      #dataset = dataset.iloc[::int(len(dataset) / (20)),:]\n",
        "      dataset = dataset.iloc[:20,:]\n",
        "    vector_cols = ('Punkt_Pos', 'Punkt_Fl_Norm1', 'Punkt_Fl_Norm2', 'Frame_Pos', 'Frame_Xvek', 'Frame_Yvek', 'Frame_Zvek', 'pos', 'nor_pos')\n",
        "    df_with_arrays = dataset.copy(deep=True)\n",
        "\n",
        "    for col in vector_cols:\n",
        "        df_with_arrays[col] = df_with_arrays[col].apply(to_np_array)\n",
        "\n",
        "    point_data = df_with_arrays.copy(deep=True).iloc[1,:]\n",
        "    point_data['pos'] = df_with_arrays['pos'].to_numpy()\n",
        "    point_data['hit_fraction'] = df_with_arrays['hit_fraction'].to_numpy().astype(np.float32)\n",
        "\n",
        "    point_data = point_data.to_frame().T\n",
        "    return point_data"
      ],
      "metadata": {
        "pycharm": {
          "name": "#%%\n"
        },
        "id": "Bt_9D3ZoAAiX"
      }
    },
    {
      "cell_type": "code",
      "execution_count": 82,
      "outputs": [],
      "source": [
        "data = pd.DataFrame(columns=['WkzWkl',\n",
        "                             'WkzName',\n",
        "                             'Punkt_Pos',\n",
        "                             'Punkt_Fl_Norm1',\n",
        "                             'Punkt_Fl_Norm2',\n",
        "                             'Frame_Pos',\n",
        "                             'Frame_Xvek',\n",
        "                             'Frame_Yvek',\n",
        "                             'Frame_Zvek',\n",
        "                             'hit_fraction',\n",
        "                             'pos',\n",
        "                             'nor_pos',\n",
        "                             'csv_name'])"
      ],
      "metadata": {
        "pycharm": {
          "name": "#%%\n"
        },
        "id": "fCYuTS94AAiZ"
      }
    },
    {
      "cell_type": "code",
      "execution_count": 83,
      "outputs": [],
      "source": [
        "for file in dir:\n",
        "  point_data = create_data('{}/{}'.format(path, file), True)\n",
        "  point_data['csv_name'] = file\n",
        "  data = pd.concat([data, point_data], ignore_index=True)\n",
        "#data.sort_values(by=['csv_name'])"
      ],
      "metadata": {
        "pycharm": {
          "name": "#%%\n"
        },
        "id": "NlJ8u761AAia"
      }
    },
    {
      "cell_type": "markdown",
      "source": [],
      "metadata": {
        "id": "r1DR4pPhU2X3"
      }
    },
    {
      "cell_type": "code",
      "source": [
        "train_dataset = data.sample(frac=0.8, random_state=0)\n",
        "test_dataset = data.drop(train_dataset.index)\n",
        "\n",
        "y_train = pd.concat([train_dataset.pop(col) for col in ['Frame_Xvek', 'Frame_Yvek', 'Frame_Zvek']], axis=1)\n",
        "X_train = pd.concat([train_dataset.pop(col) for col in ['pos']], axis=1)\n",
        "\n",
        "y_test = pd.concat([test_dataset.pop(col) for col in ['Frame_Xvek', 'Frame_Yvek', 'Frame_Zvek']], axis=1)\n",
        "X_test = pd.concat([test_dataset.pop(col) for col in ['pos']], axis=1)"
      ],
      "metadata": {
        "id": "q9u0Q7I_Mrf6"
      },
      "execution_count": 84,
      "outputs": []
    },
    {
      "cell_type": "code",
      "source": [
        "y_train = np.array([np.vstack(arr) for arr in np.array(y_train)])\n",
        "X_train = np.array([np.vstack(arr[0]) for arr in np.array(X_train)])\n",
        "y_test = np.array([np.vstack(arr) for arr in np.array(y_test)])\n",
        "X_test = np.array([np.vstack(arr[0]) for arr in np.array(X_test)])"
      ],
      "metadata": {
        "id": "kNPT1GgoB-do"
      },
      "execution_count": 85,
      "outputs": []
    },
    {
      "cell_type": "markdown",
      "source": [
        "# Regression Model\n"
      ],
      "metadata": {
        "id": "RcJ4vm9KGjtA"
      }
    },
    {
      "cell_type": "code",
      "source": [
        "def build_and_compile_model():\n",
        "\n",
        "\n",
        "  dense = layers.Dense(64, activation=\"relu\")\n",
        "\n",
        "  inputs = keras.Input(shape=(20,3))\n",
        "  x = dense(inputs)\n",
        "\n",
        "  x = tf.keras.layers.UpSampling1D(3)(inputs)  \n",
        "\n",
        "  x = tf.keras.layers.MaxPooling1D(20)(x)  \n",
        "  x = layers.Dense(64, activation=\"relu\")(x)\n",
        "  x = layers.Dense(64, activation=\"relu\")(x)\n",
        "\n",
        "  outputs = layers.Dense(3)(x)\n",
        "\n",
        "\n",
        "  model = keras.Model(inputs=inputs, outputs=outputs, name=\"model\")\n",
        "  \"\"\"\n",
        "  model = keras.Model([\n",
        "      normalizer,\n",
        "      layers.Dense(64, activation='relu'),\n",
        "      layers.Dense(64, activation='relu'),\n",
        "      layers.Dense(3)\n",
        "  ])\n",
        "  \"\"\"\n",
        "  model.compile(loss='mean_absolute_error',\n",
        "                optimizer=tf.keras.optimizers.Adam(0.001),\n",
        "                metrics=['accuracy'])\n",
        "  \n",
        "  return model\n",
        "\n",
        "\n",
        "dnn_model = build_and_compile_model()\n",
        "dnn_model.summary()"
      ],
      "metadata": {
        "id": "uS-u-ZCAGoA9",
        "colab": {
          "base_uri": "https://localhost:8080/"
        },
        "outputId": "c3a14d79-1b93-482b-8853-5cf075d24d14"
      },
      "execution_count": 86,
      "outputs": [
        {
          "output_type": "stream",
          "name": "stdout",
          "text": [
            "Model: \"model\"\n",
            "_________________________________________________________________\n",
            " Layer (type)                Output Shape              Param #   \n",
            "=================================================================\n",
            " input_8 (InputLayer)        [(None, 20, 3)]           0         \n",
            "                                                                 \n",
            " up_sampling1d_7 (UpSampling  (None, 60, 3)            0         \n",
            " 1D)                                                             \n",
            "                                                                 \n",
            " max_pooling1d_7 (MaxPooling  (None, 3, 3)             0         \n",
            " 1D)                                                             \n",
            "                                                                 \n",
            " dense_29 (Dense)            (None, 3, 64)             256       \n",
            "                                                                 \n",
            " dense_30 (Dense)            (None, 3, 64)             4160      \n",
            "                                                                 \n",
            " dense_31 (Dense)            (None, 3, 3)              195       \n",
            "                                                                 \n",
            "=================================================================\n",
            "Total params: 4,611\n",
            "Trainable params: 4,611\n",
            "Non-trainable params: 0\n",
            "_________________________________________________________________\n"
          ]
        }
      ]
    },
    {
      "cell_type": "code",
      "source": [
        "%%time\n",
        "history = dnn_model.fit(\n",
        "    X_train,\n",
        "    y_train,\n",
        "    validation_split=0.2,\n",
        "    epochs=100,\n",
        "    validation_data=(X_test, y_test))\n"
      ],
      "metadata": {
        "id": "9AK4ihe99LCB"
      },
      "execution_count": null,
      "outputs": []
    },
    {
      "cell_type": "code",
      "source": [
        "plot_loss(history)"
      ],
      "metadata": {
        "id": "hVoSXQXDoYs5",
        "colab": {
          "base_uri": "https://localhost:8080/",
          "height": 283
        },
        "outputId": "e4b09c8f-4cfc-489e-9986-69ceca1da05f"
      },
      "execution_count": 88,
      "outputs": [
        {
          "output_type": "display_data",
          "data": {
            "text/plain": [
              "<Figure size 432x288 with 1 Axes>"
            ],
            "image/png": "[encoded data removed]"
          },
          "metadata": {
            "needs_background": "light"
          }
        }
      ]
    },
    {
      "cell_type": "code",
      "source": [
        "print(\"Evaluate on test data\")\n",
        "results = dnn_model.evaluate(X_test, y_test, batch_size=128, verbose=2)\n",
        "print(\"test loss, test acc:\", results)"
      ],
      "metadata": {
        "id": "KV8yLg2ULzSN",
        "colab": {
          "base_uri": "https://localhost:8080/"
        },
        "outputId": "de096014-2f0d-440e-dc98-55b7692fb4b8"
      },
      "execution_count": 91,
      "outputs": [
        {
          "output_type": "stream",
          "name": "stdout",
          "text": [
            "Evaluate on test data\n",
            "1/1 - 0s - loss: 0.4465 - accuracy: 0.3333 - 27ms/epoch - 27ms/step\n",
            "test loss, test acc: [0.4465126097202301, 0.3333333432674408]\n"
          ]
        }
      ]
    },
    {
      "cell_type": "code",
      "source": [
        "dnn_model.predict(X_test[:1]), y_test[:1]\n",
        "\n"
      ],
      "metadata": {
        "id": "awSHn9NNo17Q",
        "colab": {
          "base_uri": "https://localhost:8080/"
        },
        "outputId": "37d175f4-32e7-49c5-c2d6-6db7a17654ad"
      },
      "execution_count": 90,
      "outputs": [
        {
          "output_type": "stream",
          "name": "stderr",
          "text": [
            "WARNING:tensorflow:5 out of the last 5 calls to <function Model.make_predict_function.<locals>.predict_function at 0x7f53be1e7dd0> triggered tf.function retracing. Tracing is expensive and the excessive number of tracings could be due to (1) creating @tf.function repeatedly in a loop, (2) passing tensors with different shapes, (3) passing Python objects instead of tensors. For (1), please define your @tf.function outside of the loop. For (2), @tf.function has experimental_relax_shapes=True option that relaxes argument shapes that can avoid unnecessary retracing. For (3), please refer to https://www.tensorflow.org/guide/function#controlling_retracing and https://www.tensorflow.org/api_docs/python/tf/function for  more details.\n"
          ]
        },
        {
          "output_type": "execute_result",
          "data": {
            "text/plain": [
              "(array([[[-0.027, -0.006, -0.004],\n",
              "         [-0.027, -0.006, -0.004],\n",
              "         [-0.027, -0.006, -0.004]]], dtype=float32),\n",
              " array([[[ 0.977,  0.212,  0.   ],\n",
              "         [-0.148,  0.683, -0.715],\n",
              "         [-0.151,  0.699,  0.699]]], dtype=float32))"
            ]
          },
          "metadata": {},
          "execution_count": 90
        }
      ]
    }
  ],
  "metadata": {
    "kernelspec": {
      "display_name": "Python 3",
      "language": "python",
      "name": "python3"
    },
    "language_info": {
      "codemirror_mode": {
        "name": "ipython",
        "version": 2
      },
      "file_extension": ".py",
      "mimetype": "text/x-python",
      "name": "python",
      "nbconvert_exporter": "python",
      "pygments_lexer": "ipython2",
      "version": "2.7.6"
    },
    "colab": {
      "provenance": [],
      "collapsed_sections": [],
      "toc_visible": true,
      "include_colab_link": true
    }
  },
  "nbformat": 4,
  "nbformat_minor": 0
}